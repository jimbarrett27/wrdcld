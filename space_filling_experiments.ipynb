{
 "cells": [
  {
   "cell_type": "code",
   "execution_count": 1,
   "id": "216783e4-03d3-4b5a-b5da-873b230567b2",
   "metadata": {},
   "outputs": [],
   "source": [
    "from pathlib import Path\n",
    "from PIL import Image, ImageDraw, ImageFont\n",
    "from collections import Counter\n",
    "from dataclasses import dataclass\n",
    "import random\n",
    "import math\n",
    "from wrdcld.font import get_default_font_path\n",
    "from wrdcld.rectangle import Rectangle\n",
    "import numpy as np"
   ]
  },
  {
   "cell_type": "code",
   "execution_count": 2,
   "id": "06bee73d-4be4-4ebf-8197-f5d841effea3",
   "metadata": {},
   "outputs": [
    {
     "data": {
      "text/plain": [
       "array([0, 0, 0, 0, 0, 0, 0, 0, 0, 0, 0, 0, 0, 0, 0, 0, 0, 0, 0, 0, 0, 0,\n",
       "       0, 0, 0, 0, 0, 0, 0, 0, 0, 0, 0, 0, 0, 0, 0, 0, 0, 0, 0, 0, 0, 0,\n",
       "       0, 0, 0, 0, 0, 0, 0, 0, 0, 0, 0, 0, 0, 0, 0, 0, 0, 0, 0, 0, 0, 0,\n",
       "       0, 0], dtype=uint8)"
      ]
     },
     "execution_count": 2,
     "metadata": {},
     "output_type": "execute_result"
    }
   ],
   "source": [
    "img = Image.new('RGB', (500,500), color = (73, 109, 137))\n",
    "canvas = ImageDraw.Draw(img)\n",
    "\n",
    "text = \"hello\"\n",
    "size = 30\n",
    "\n",
    "font = ImageFont.truetype(get_default_font_path(), size)\n",
    "\n",
    "bbox = font.getbbox(text)\n",
    "\n",
    "text_dims = (bbox[2] - bbox[0], 2*(bbox[3] - bbox[1]))\n",
    "\n",
    "tmp_img = Image.new('RGB', text_dims,color = (0,0,0))\n",
    "tmp_canvas = ImageDraw.Draw(tmp_img)\n",
    "\n",
    "\n",
    "\n",
    "\n",
    "tmp_canvas.text(\n",
    "    (0,0), \n",
    "    text,\n",
    "    fill=(255,255,255),\n",
    "    font=font,\n",
    ")\n",
    "\n",
    "img_data = np.array(tmp_img)[:,:,0]\n",
    "\n",
    "img_data[0,:]"
   ]
  },
  {
   "cell_type": "code",
   "execution_count": 3,
   "id": "ec79e1a9-f152-4c78-a948-f1f0f1de470d",
   "metadata": {},
   "outputs": [
    {
     "data": {
      "image/jpeg": "[encoded data removed]",
      "image/png": "[encoded data removed]",
      "text/plain": [
       "<PIL.Image.Image image mode=RGB size=68x46>"
      ]
     },
     "execution_count": 3,
     "metadata": {},
     "output_type": "execute_result"
    }
   ],
   "source": [
    "tmp_img"
   ]
  },
  {
   "cell_type": "code",
   "execution_count": 4,
   "id": "56bc00c8-0ca4-4eb3-bf26-aa5c372133cc",
   "metadata": {},
   "outputs": [
    {
     "data": {
      "text/plain": [
       "(46, 68)"
      ]
     },
     "execution_count": 4,
     "metadata": {},
     "output_type": "execute_result"
    }
   ],
   "source": [
    "img_data.shape"
   ]
  },
  {
   "cell_type": "code",
   "execution_count": 5,
   "id": "a35fc5ea-bac3-494c-b1c7-52abdb47aded",
   "metadata": {},
   "outputs": [],
   "source": [
    "# completed_rectangles = []\n",
    "# active_rectangles = [Rectangle(x=0,y=0, width=img_data.shape[1], height=0)]\n",
    "# base_value = 0\n",
    "# min_rectangle_width = 3\n",
    "# for ind, img_row in enumerate(img_data):\n",
    "    \n",
    "#     new_active_rectangles = []\n",
    "#     for rect in active_rectangles:\n",
    "        \n",
    "#         # rectangle isn't done yet\n",
    "#         if np.all(img_row[rect.x: rect.x+rect.width] == base_value):\n",
    "#             new_active_rectangles.append(Rectangle(x=rect.x, y=rect.y, width=rect.width, height=rect.height+1))\n",
    "#         elif rect.height == 0:\n",
    "#             continue\n",
    "#         # make the new rectangles\n",
    "#         else:\n",
    "#             completed_rectangles.append(rect)\n",
    "#             # find the new rectangles to start\n",
    "#             new_left = []\n",
    "#             new_right = []\n",
    "#             new_rect_active = False\n",
    "#             for col_ind, val in enumerate(img_row):\n",
    "#                 if val == base_value and not new_rect_active:\n",
    "#                     new_rect_active = True\n",
    "#                     new_left.append(col_ind + rect.x)\n",
    "#                 elif new_rect_active and val != base_value:\n",
    "#                     new_rect_active = False\n",
    "#                     new_right.append(col_ind + rect.x)\n",
    "#                 else:\n",
    "#                     continue\n",
    "\n",
    "#             if new_rect_active:\n",
    "#                 new_right.append(rect.x + rect.width)\n",
    "\n",
    "#             for left, right in zip(new_left, new_right, strict=True):\n",
    "#                 if right - left < min_rectangle_width:\n",
    "#                     continue\n",
    "#                 new_active_rectangles.append(Rectangle(x=left, y=ind, width=right-left, height=0))\n",
    "\n",
    "#     active_rectangles = new_active_rectangles\n",
    "\n",
    "# completed_rectangles.extend(active_rectangles)"
   ]
  },
  {
   "cell_type": "code",
   "execution_count": 117,
   "id": "8fe01b43-b642-44a5-ada8-57ab77fc9d7b",
   "metadata": {},
   "outputs": [],
   "source": [
    "text = \"hello\"\n",
    "size = 30\n",
    "\n",
    "font = ImageFont.truetype(get_default_font_path(), size)\n",
    "\n",
    "bbox = font.getbbox(text)\n",
    "\n",
    "text_dims = (bbox[2] - bbox[0], 2*(bbox[3] - bbox[1]))\n",
    "\n",
    "tmp_img = Image.new('RGB', text_dims,color = (0,0,0))\n",
    "tmp_canvas = ImageDraw.Draw(tmp_img)\n",
    "\n",
    "np.array(tmp_img.quantize())\n",
    "\n",
    "\n",
    "tmp_canvas.text(\n",
    "    (0,0), \n",
    "    text,\n",
    "    fill=(255,255,255),\n",
    "    font=font,\n",
    ")\n",
    "\n",
    "img_data = np.array(tmp_img.quantize(2))\n",
    "\n",
    "\n",
    "rectangles = [Rectangle(x=0,y=0, width=img_data.shape[1], height=0)]\n",
    "base_value = img_data[0,0]\n",
    "min_rectangle_side_length = 3\n",
    "for row_ind, img_row in enumerate(img_data):\n",
    "    # find the gaps between the letters\n",
    "    left_inds = []\n",
    "    right_inds = []\n",
    "    new_rect_active = False\n",
    "    for col_ind, val in enumerate(img_row):\n",
    "        if val == base_value and not new_rect_active:\n",
    "            new_rect_active = True\n",
    "            left_inds.append(col_ind)\n",
    "        elif new_rect_active and val != base_value:\n",
    "            new_rect_active = False\n",
    "            right_inds.append(col_ind)\n",
    "        else:\n",
    "            continue\n",
    "\n",
    "    if new_rect_active:\n",
    "        right_inds.append(img_data.shape[1])\n",
    "\n",
    "    new_rectangles = []\n",
    "    for left_ind, right_ind in zip(left_inds, right_inds, strict=True):\n",
    "        # if the rectangle is too small\n",
    "        if right_ind - left_ind < min_rectangle_side_length:\n",
    "            continue\n",
    "        # if this is a continuation of an existing rectangle\n",
    "        extended = False\n",
    "        for rect_ind, rectangle in enumerate(rectangles):\n",
    "            if rectangle.bottom == row_ind and rectangle.x == left_ind and rectangle.right == right_ind:\n",
    "                rectangles[rect_ind] = Rectangle(x=rectangle.x, y=rectangle.y, width=rectangle.width, height=rectangle.height+1)\n",
    "                extended = True\n",
    "\n",
    "        if not extended:\n",
    "            new_rectangles.append(Rectangle(x=left_ind, y=row_ind, width=right_ind-left_ind, height=1))\n",
    "\n",
    "    rectangles += new_rectangles\n",
    "\n",
    "rectangles = [rectangle for rectangle in rectangles if rectangle.height >= min_rectangle_side_length]\n",
    "\n",
    "    "
   ]
  },
  {
   "cell_type": "code",
   "execution_count": 118,
   "id": "68d51d69-0f27-429d-9292-53d177d620cc",
   "metadata": {},
   "outputs": [],
   "source": [
    "for rectangle in rectangles:\n",
    "    tmp_canvas.rectangle(rectangle.xyrb)"
   ]
  },
  {
   "cell_type": "code",
   "execution_count": 119,
   "id": "2122fd47-0adc-4dc6-8934-8ef3427ceb86",
   "metadata": {},
   "outputs": [
    {
     "data": {
      "image/jpeg": "[encoded data removed]",
      "image/png": "[encoded data removed]",
      "text/plain": [
       "<PIL.Image.Image image mode=RGB size=68x46>"
      ]
     },
     "execution_count": 119,
     "metadata": {},
     "output_type": "execute_result"
    }
   ],
   "source": [
    "tmp_img"
   ]
  },
  {
   "cell_type": "code",
   "execution_count": 120,
   "id": "7054930e-1c3d-46a8-b19e-ed53b95c542b",
   "metadata": {},
   "outputs": [
    {
     "data": {
      "text/plain": [
       "[Rectangle(x=0 y=0 w=68 h=10),\n",
       " Rectangle(x=5 y=10 w=32 h=7),\n",
       " Rectangle(x=40 y=10 w=5 h=23),\n",
       " Rectangle(x=48 y=10 w=20 h=7),\n",
       " Rectangle(x=33 y=20 w=4 h=5),\n",
       " Rectangle(x=16 y=21 w=4 h=8),\n",
       " Rectangle(x=48 y=21 w=4 h=8),\n",
       " Rectangle(x=5 y=22 w=8 h=11),\n",
       " Rectangle(x=54 y=23 w=10 h=4),\n",
       " Rectangle(x=0 y=33 w=68 h=13)]"
      ]
     },
     "execution_count": 120,
     "metadata": {},
     "output_type": "execute_result"
    }
   ],
   "source": [
    "rectangles"
   ]
  },
  {
   "cell_type": "code",
   "execution_count": 95,
   "id": "0dbcd09f-518d-49eb-99c3-d6d050a99af8",
   "metadata": {},
   "outputs": [
    {
     "data": {
      "text/plain": [
       "[Rectangle(x=0 y=0 w=68 h=10),\n",
       " Rectangle(x=5 y=10 w=32 h=7),\n",
       " Rectangle(x=40 y=10 w=5 h=23),\n",
       " Rectangle(x=48 y=10 w=20 h=7),\n",
       " Rectangle(x=33 y=20 w=4 h=5),\n",
       " Rectangle(x=16 y=21 w=4 h=8),\n",
       " Rectangle(x=48 y=21 w=4 h=8),\n",
       " Rectangle(x=5 y=22 w=8 h=11),\n",
       " Rectangle(x=54 y=23 w=10 h=4),\n",
       " Rectangle(x=0 y=33 w=68 h=13)]"
      ]
     },
     "execution_count": 95,
     "metadata": {},
     "output_type": "execute_result"
    }
   ],
   "source": [
    "rectangles"
   ]
  },
  {
   "cell_type": "code",
   "execution_count": 96,
   "id": "6e7ea5b5-ecbc-470c-b5fa-1c68f5776f88",
   "metadata": {},
   "outputs": [
    {
     "data": {
      "text/plain": [
       "array([255, 255, 255, ...,  73,  73,  73])"
      ]
     },
     "execution_count": 96,
     "metadata": {},
     "output_type": "execute_result"
    }
   ],
   "source": [
    "np.array(tmp_img.getdata())[:,0]"
   ]
  },
  {
   "cell_type": "code",
   "execution_count": 97,
   "id": "41739495-9053-4ea7-b36f-cbc0f7dd5339",
   "metadata": {},
   "outputs": [
    {
     "data": {
      "text/plain": [
       "array([[0, 0, 0, ..., 0, 0, 0],\n",
       "       [0, 0, 0, ..., 0, 0, 0],\n",
       "       [0, 0, 0, ..., 0, 0, 0],\n",
       "       ...,\n",
       "       [0, 0, 0, ..., 0, 0, 0],\n",
       "       [0, 0, 0, ..., 0, 0, 0],\n",
       "       [0, 0, 0, ..., 0, 0, 0]], dtype=uint8)"
      ]
     },
     "execution_count": 97,
     "metadata": {},
     "output_type": "execute_result"
    }
   ],
   "source": [
    "img_data.T"
   ]
  },
  {
   "cell_type": "code",
   "execution_count": null,
   "id": "bcbccb8e-f8ea-40ce-ba69-83a13d974ac3",
   "metadata": {},
   "outputs": [],
   "source": []
  },
  {
   "cell_type": "code",
   "execution_count": null,
   "id": "7541a693-24e0-436c-9530-e7b694233739",
   "metadata": {},
   "outputs": [],
   "source": []
  },
  {
   "cell_type": "code",
   "execution_count": null,
   "id": "b6598d1d-ecee-4e6f-b643-606d72fb0c83",
   "metadata": {},
   "outputs": [],
   "source": []
  }
 ],
 "metadata": {
  "kernelspec": {
   "display_name": "Python 3 (ipykernel)",
   "language": "python",
   "name": "python3"
  },
  "language_info": {
   "codemirror_mode": {
    "name": "ipython",
    "version": 3
   },
   "file_extension": ".py",
   "mimetype": "text/x-python",
   "name": "python",
   "nbconvert_exporter": "python",
   "pygments_lexer": "ipython3",
   "version": "3.11.2"
  }
 },
 "nbformat": 4,
 "nbformat_minor": 5
}
