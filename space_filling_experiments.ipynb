{
 "cells": [
  {
   "cell_type": "code",
   "execution_count": 1,
   "id": "216783e4-03d3-4b5a-b5da-873b230567b2",
   "metadata": {},
   "outputs": [],
   "source": [
    "from pathlib import Path\n",
    "from PIL import Image, ImageDraw, ImageFont\n",
    "from collections import Counter\n",
    "from dataclasses import dataclass\n",
    "import random\n",
    "import math\n",
    "from wrdcld.font import get_default_font_path\n",
    "from wrdcld.rectangle import Rectangle\n",
    "import numpy as np"
   ]
  },
  {
   "cell_type": "code",
   "execution_count": 12,
   "id": "06bee73d-4be4-4ebf-8197-f5d841effea3",
   "metadata": {},
   "outputs": [
    {
     "data": {
      "text/plain": [
       "array([0, 0, 0, 0, 0, 0, 0, 0, 0, 0, 0, 0, 0, 0, 0, 0, 0, 0, 0, 0, 0, 0,\n",
       "       0, 0, 0, 0, 0, 0, 0, 0, 0, 0, 0, 0, 0, 0, 0, 0, 0, 0, 0, 0, 0, 0,\n",
       "       0, 0, 0, 0, 0, 0, 0, 0, 0, 0, 0, 0, 0, 0, 0, 0, 0, 0, 0, 0, 0, 0,\n",
       "       0, 0], dtype=uint8)"
      ]
     },
     "execution_count": 12,
     "metadata": {},
     "output_type": "execute_result"
    }
   ],
   "source": [
    "img = Image.new('RGB', (500,500), color = (73, 109, 137))\n",
    "canvas = ImageDraw.Draw(img)\n",
    "\n",
    "text = \"hello\"\n",
    "size = 30\n",
    "\n",
    "font = ImageFont.truetype(get_default_font_path(), size)\n",
    "\n",
    "bbox = font.getbbox(text)\n",
    "\n",
    "text_dims = (bbox[2] - bbox[0], 2*(bbox[3] - bbox[1]))\n",
    "\n",
    "tmp_img = Image.new('RGB', text_dims,color = (0,0,0))\n",
    "tmp_canvas = ImageDraw.Draw(tmp_img)\n",
    "\n",
    "\n",
    "\n",
    "\n",
    "tmp_canvas.text(\n",
    "    (0,0), \n",
    "    text,\n",
    "    fill=(255,255,255),\n",
    "    font=font,\n",
    ")\n",
    "\n",
    "img_data = np.array(tmp_img)[:,:,0]\n",
    "\n",
    "img_data[0,:]"
   ]
  },
  {
   "cell_type": "code",
   "execution_count": 13,
   "id": "ec79e1a9-f152-4c78-a948-f1f0f1de470d",
   "metadata": {},
   "outputs": [
    {
     "data": {
      "image/jpeg": "[encoded data removed]",
      "image/png": "[encoded data removed]",
      "text/plain": [
       "<PIL.Image.Image image mode=RGB size=68x46>"
      ]
     },
     "execution_count": 13,
     "metadata": {},
     "output_type": "execute_result"
    }
   ],
   "source": [
    "tmp_img"
   ]
  },
  {
   "cell_type": "code",
   "execution_count": 14,
   "id": "56bc00c8-0ca4-4eb3-bf26-aa5c372133cc",
   "metadata": {},
   "outputs": [
    {
     "data": {
      "text/plain": [
       "(46, 68)"
      ]
     },
     "execution_count": 14,
     "metadata": {},
     "output_type": "execute_result"
    }
   ],
   "source": [
    "img_data.shape"
   ]
  },
  {
   "cell_type": "code",
   "execution_count": 15,
   "id": "a35fc5ea-bac3-494c-b1c7-52abdb47aded",
   "metadata": {},
   "outputs": [
    {
     "name": "stdout",
     "output_type": "stream",
     "text": [
      "[Rectangle(x=0 y=0 w=68 h=0)]\n",
      "[Rectangle(x=0 y=0 w=68 h=1)]\n",
      "[Rectangle(x=0 y=0 w=68 h=2)]\n",
      "[Rectangle(x=0 y=0 w=68 h=3)]\n",
      "[Rectangle(x=0 y=0 w=68 h=4)]\n",
      "[Rectangle(x=0 y=0 w=68 h=5)]\n",
      "[Rectangle(x=0 y=0 w=68 h=6)]\n",
      "[Rectangle(x=0 y=0 w=68 h=7)]\n",
      "[Rectangle(x=0 y=0 w=68 h=8)]\n",
      "[Rectangle(x=0 y=0 w=68 h=9)]\n",
      "[Rectangle(x=0 y=0 w=68 h=10)]\n",
      "[Rectangle(x=5 y=10 w=32 h=0), Rectangle(x=41 y=10 w=4 h=0), Rectangle(x=49 y=10 w=19 h=0)]\n",
      "[Rectangle(x=5 y=10 w=32 h=1), Rectangle(x=41 y=10 w=4 h=1), Rectangle(x=49 y=10 w=19 h=1)]\n",
      "[Rectangle(x=5 y=10 w=32 h=2), Rectangle(x=41 y=10 w=4 h=2), Rectangle(x=49 y=10 w=19 h=2)]\n",
      "[Rectangle(x=5 y=10 w=32 h=3), Rectangle(x=41 y=10 w=4 h=3), Rectangle(x=49 y=10 w=19 h=3)]\n",
      "[Rectangle(x=5 y=10 w=32 h=4), Rectangle(x=41 y=10 w=4 h=4), Rectangle(x=49 y=10 w=19 h=4)]\n",
      "[Rectangle(x=5 y=10 w=32 h=5), Rectangle(x=41 y=10 w=4 h=5), Rectangle(x=49 y=10 w=19 h=5)]\n",
      "[Rectangle(x=5 y=10 w=32 h=6), Rectangle(x=41 y=10 w=4 h=6), Rectangle(x=49 y=10 w=19 h=6)]\n",
      "[Rectangle(x=19 y=17 w=9 h=0), Rectangle(x=36 y=17 w=6 h=0), Rectangle(x=46 y=17 w=4 h=0), Rectangle(x=54 y=17 w=6 h=0), Rectangle(x=41 y=10 w=4 h=7), Rectangle(x=63 y=17 w=9 h=0), Rectangle(x=80 y=17 w=6 h=0), Rectangle(x=90 y=17 w=4 h=0), Rectangle(x=98 y=17 w=6 h=0)]\n",
      "[Rectangle(x=41 y=10 w=4 h=8), Rectangle(x=80 y=17 w=6 h=1), Rectangle(x=90 y=17 w=4 h=1), Rectangle(x=98 y=17 w=6 h=1)]\n",
      "[Rectangle(x=41 y=10 w=4 h=9), Rectangle(x=80 y=17 w=6 h=2), Rectangle(x=90 y=17 w=4 h=2), Rectangle(x=98 y=17 w=6 h=2)]\n",
      "[Rectangle(x=41 y=10 w=4 h=10), Rectangle(x=80 y=17 w=6 h=3), Rectangle(x=90 y=17 w=4 h=3), Rectangle(x=98 y=17 w=6 h=3)]\n",
      "[Rectangle(x=41 y=10 w=4 h=11), Rectangle(x=80 y=17 w=6 h=4), Rectangle(x=90 y=17 w=4 h=4), Rectangle(x=98 y=17 w=6 h=4)]\n",
      "[Rectangle(x=41 y=10 w=4 h=12), Rectangle(x=80 y=17 w=6 h=5), Rectangle(x=90 y=17 w=4 h=5), Rectangle(x=98 y=17 w=6 h=5)]\n",
      "[Rectangle(x=41 y=10 w=4 h=13), Rectangle(x=80 y=17 w=6 h=6), Rectangle(x=90 y=17 w=4 h=6), Rectangle(x=98 y=17 w=6 h=6)]\n",
      "[Rectangle(x=41 y=10 w=4 h=14), Rectangle(x=80 y=17 w=6 h=7), Rectangle(x=90 y=17 w=4 h=7), Rectangle(x=98 y=17 w=6 h=7)]\n",
      "[Rectangle(x=41 y=10 w=4 h=15), Rectangle(x=80 y=17 w=6 h=8), Rectangle(x=90 y=17 w=4 h=8), Rectangle(x=98 y=17 w=6 h=8)]\n",
      "[Rectangle(x=41 y=10 w=4 h=16), Rectangle(x=80 y=17 w=6 h=9), Rectangle(x=90 y=17 w=4 h=9), Rectangle(x=98 y=17 w=6 h=9)]\n",
      "[Rectangle(x=41 y=10 w=4 h=17), Rectangle(x=80 y=17 w=6 h=10), Rectangle(x=90 y=17 w=4 h=10), Rectangle(x=98 y=17 w=6 h=10)]\n",
      "[Rectangle(x=41 y=10 w=4 h=18), Rectangle(x=80 y=17 w=6 h=11), Rectangle(x=90 y=17 w=4 h=11), Rectangle(x=98 y=17 w=6 h=11)]\n",
      "[Rectangle(x=41 y=10 w=4 h=19), Rectangle(x=80 y=17 w=6 h=12), Rectangle(x=90 y=17 w=4 h=12), Rectangle(x=98 y=17 w=6 h=12)]\n",
      "[Rectangle(x=41 y=10 w=4 h=20), Rectangle(x=80 y=17 w=6 h=13), Rectangle(x=90 y=17 w=4 h=13), Rectangle(x=98 y=17 w=6 h=13)]\n",
      "[Rectangle(x=41 y=10 w=4 h=21), Rectangle(x=80 y=17 w=6 h=14), Rectangle(x=90 y=17 w=4 h=14), Rectangle(x=98 y=17 w=6 h=14)]\n",
      "[Rectangle(x=41 y=10 w=4 h=22), Rectangle(x=80 y=17 w=6 h=15), Rectangle(x=90 y=17 w=4 h=15), Rectangle(x=98 y=17 w=6 h=15)]\n",
      "[Rectangle(x=41 y=10 w=4 h=23), Rectangle(x=80 y=17 w=6 h=16), Rectangle(x=90 y=17 w=4 h=16), Rectangle(x=98 y=17 w=6 h=16)]\n",
      "[Rectangle(x=41 y=10 w=4 h=24), Rectangle(x=80 y=17 w=6 h=17), Rectangle(x=90 y=17 w=4 h=17), Rectangle(x=98 y=17 w=6 h=17)]\n",
      "[Rectangle(x=41 y=10 w=4 h=25), Rectangle(x=80 y=17 w=6 h=18), Rectangle(x=90 y=17 w=4 h=18), Rectangle(x=98 y=17 w=6 h=18)]\n",
      "[Rectangle(x=41 y=10 w=4 h=26), Rectangle(x=80 y=17 w=6 h=19), Rectangle(x=90 y=17 w=4 h=19), Rectangle(x=98 y=17 w=6 h=19)]\n",
      "[Rectangle(x=41 y=10 w=4 h=27), Rectangle(x=80 y=17 w=6 h=20), Rectangle(x=90 y=17 w=4 h=20), Rectangle(x=98 y=17 w=6 h=20)]\n",
      "[Rectangle(x=41 y=10 w=4 h=28), Rectangle(x=80 y=17 w=6 h=21), Rectangle(x=90 y=17 w=4 h=21), Rectangle(x=98 y=17 w=6 h=21)]\n",
      "[Rectangle(x=41 y=10 w=4 h=29), Rectangle(x=80 y=17 w=6 h=22), Rectangle(x=90 y=17 w=4 h=22), Rectangle(x=98 y=17 w=6 h=22)]\n",
      "[Rectangle(x=41 y=10 w=4 h=30), Rectangle(x=80 y=17 w=6 h=23), Rectangle(x=90 y=17 w=4 h=23), Rectangle(x=98 y=17 w=6 h=23)]\n",
      "[Rectangle(x=41 y=10 w=4 h=31), Rectangle(x=80 y=17 w=6 h=24), Rectangle(x=90 y=17 w=4 h=24), Rectangle(x=98 y=17 w=6 h=24)]\n",
      "[Rectangle(x=41 y=10 w=4 h=32), Rectangle(x=80 y=17 w=6 h=25), Rectangle(x=90 y=17 w=4 h=25), Rectangle(x=98 y=17 w=6 h=25)]\n",
      "[Rectangle(x=41 y=10 w=4 h=33), Rectangle(x=80 y=17 w=6 h=26), Rectangle(x=90 y=17 w=4 h=26), Rectangle(x=98 y=17 w=6 h=26)]\n",
      "[Rectangle(x=41 y=10 w=4 h=34), Rectangle(x=80 y=17 w=6 h=27), Rectangle(x=90 y=17 w=4 h=27), Rectangle(x=98 y=17 w=6 h=27)]\n"
     ]
    }
   ],
   "source": [
    "completed_rectangles = []\n",
    "active_rectangles = [Rectangle(x=0,y=0, width=img_data.shape[1], height=0)]\n",
    "base_value = 0\n",
    "min_rectangle_width = 3\n",
    "for ind, img_row in enumerate(img_data):\n",
    "\n",
    "    print(active_rectangles)\n",
    "    \n",
    "    new_active_rectangles = []\n",
    "    for rect in active_rectangles:\n",
    "        \n",
    "        # rectangle isn't done yet\n",
    "        if np.all(img_row[rect.x: rect.x+rect.width] == base_value):\n",
    "            new_active_rectangles.append(Rectangle(x=rect.x, y=rect.y, width=rect.width, height=rect.height+1))\n",
    "        elif rect.height == 0:\n",
    "            continue\n",
    "        # make the new rectangles\n",
    "        else:\n",
    "            completed_rectangles.append(rect)\n",
    "            # find the new rectangles to start\n",
    "            new_left = []\n",
    "            new_right = []\n",
    "            new_rect_active = False\n",
    "            for col_ind, val in enumerate(img_row):\n",
    "                if val == base_value and not new_rect_active:\n",
    "                    new_rect_active = True\n",
    "                    new_left.append(col_ind + rect.x)\n",
    "                elif new_rect_active and val != base_value:\n",
    "                    new_rect_active = False\n",
    "                    new_right.append(col_ind + rect.x)\n",
    "                else:\n",
    "                    continue\n",
    "\n",
    "            if new_rect_active:\n",
    "                new_right.append(rect.x + rect.width)\n",
    "\n",
    "            for left, right in zip(new_left, new_right, strict=True):\n",
    "                if right - left < min_rectangle_width:\n",
    "                    continue\n",
    "                new_active_rectangles.append(Rectangle(x=left, y=ind, width=right-left, height=0))\n",
    "\n",
    "    active_rectangles = new_active_rectangles\n",
    "\n",
    "completed_rectangles.extend(active_rectangles)"
   ]
  },
  {
   "cell_type": "code",
   "execution_count": 16,
   "id": "cd111b81-758e-4bff-a61b-afd10567ec17",
   "metadata": {},
   "outputs": [
    {
     "data": {
      "text/plain": [
       "[Rectangle(x=0 y=0 w=68 h=10),\n",
       " Rectangle(x=5 y=10 w=32 h=6),\n",
       " Rectangle(x=49 y=10 w=19 h=6),\n",
       " Rectangle(x=41 y=10 w=4 h=35),\n",
       " Rectangle(x=80 y=17 w=6 h=28),\n",
       " Rectangle(x=90 y=17 w=4 h=28),\n",
       " Rectangle(x=98 y=17 w=6 h=28)]"
      ]
     },
     "execution_count": 16,
     "metadata": {},
     "output_type": "execute_result"
    }
   ],
   "source": [
    "completed_rectangles"
   ]
  },
  {
   "cell_type": "code",
   "execution_count": 17,
   "id": "68d51d69-0f27-429d-9292-53d177d620cc",
   "metadata": {},
   "outputs": [],
   "source": [
    "for rectangle in completed_rectangles:\n",
    "    tmp_canvas.rectangle(rectangle.xyrb)"
   ]
  },
  {
   "cell_type": "code",
   "execution_count": 18,
   "id": "7054930e-1c3d-46a8-b19e-ed53b95c542b",
   "metadata": {},
   "outputs": [
    {
     "data": {
      "image/jpeg": "[encoded data removed]",
      "image/png": "[encoded data removed]",
      "text/plain": [
       "<PIL.Image.Image image mode=RGB size=68x46>"
      ]
     },
     "execution_count": 18,
     "metadata": {},
     "output_type": "execute_result"
    }
   ],
   "source": [
    "tmp_img"
   ]
  },
  {
   "cell_type": "code",
   "execution_count": 9,
   "id": "0dbcd09f-518d-49eb-99c3-d6d050a99af8",
   "metadata": {},
   "outputs": [
    {
     "data": {
      "text/plain": [
       "[Rectangle(x=0 y=0 w=18 h=10), Rectangle(x=5 y=10 w=13 h=6)]"
      ]
     },
     "execution_count": 9,
     "metadata": {},
     "output_type": "execute_result"
    }
   ],
   "source": [
    "completed_rectangles"
   ]
  },
  {
   "cell_type": "code",
   "execution_count": 10,
   "id": "6e7ea5b5-ecbc-470c-b5fa-1c68f5776f88",
   "metadata": {},
   "outputs": [
    {
     "data": {
      "text/plain": [
       "array([255, 255, 255, 255, 255, 255, 255, 255, 255, 255, 255, 255, 255,\n",
       "       255, 255, 255, 255, 255, 255,   0,   0,   0,   0,   0,   0,   0,\n",
       "         0,   0,   0,   0,   0,   0,   0,   0,   0,   0, 255,   0,   0,\n",
       "         0,   0,   0,   0,   0,   0,   0,   0,   0,   0,   0,   0,   0,\n",
       "         0,   0, 255,   0,   0,   0,   0,   0,   0,   0,   0,   0,   0,\n",
       "         0,   0,   0,   0,   0,   0,   0, 255,   0,   0,   0,   0,   0,\n",
       "         0,   0,   0,   0,   0,   0,   0,   0,   0,   0,   0,   0, 255,\n",
       "         0,   0,   0,   0,   0,   0,   0,   0,   0,   0,   0,   0,   0,\n",
       "         0,   0,   0,   0, 255,   0,   0,   0,   0,   0,   0,   0,   0,\n",
       "         0,   0,   0,   0,   0,   0,   0,   0,   0, 255,   0,   0,   0,\n",
       "         0,   0,   0,   0,   0,   0,   0,   0,   0,   0,   0,   0,   0,\n",
       "         0, 255,   0,   0,   0,   0,   0,   0,   0,   0,   0,   0,   0,\n",
       "         0,   0,   0,   0,   0,   0, 255,   0,   0,   0,   0,   0,   0,\n",
       "         0,   0,   0,   0,   0,   0,   0,   0,   0,   0,   0, 255, 255,\n",
       "       255, 255, 255, 255, 255, 255, 255, 255, 255, 255, 255, 255, 255,\n",
       "       255, 255, 255,   0,   0, 112, 255, 255, 255,   0,   0,   0,   0,\n",
       "         0,   0,   0,   0,   0,   0,   0,   0,   0,   0, 112, 255, 255,\n",
       "       255,   0,   0,   0,   0,   0,   0,   0,   0,   0,   0,   0,   0,\n",
       "         0,   0, 112, 255, 255, 255,   0,   0,   0,   0,   0,   0,   0,\n",
       "         0,   0,   0,   0,   0,   0,   0, 112, 255, 255, 255,   0,   0,\n",
       "         0,   0,   0,   0,   0,   0,   0,   0,   0,   0,   0,   0, 112,\n",
       "       255, 255, 255,   0,   0,   0,   0,   0,   0,   0,   0,   0,   0,\n",
       "         0,   0,   0,   0, 112, 255, 255, 255, 255, 255, 255, 255, 255,\n",
       "       255, 255, 255, 255, 255, 255, 255,   0,   0, 112, 255, 254,   0,\n",
       "        17, 128, 207, 247, 252, 231, 178,  79,   0,   0,   0,   0,   0,\n",
       "         0, 112, 255, 245,  45, 229, 255, 255, 255, 255, 255, 255, 255,\n",
       "       149,   0,   0,   0,   0,   0, 112, 255, 241, 222, 237, 113,  37,\n",
       "         8,  17,  76, 213, 255, 255,  76,   0,   0,   0,   0, 112, 255,\n",
       "       255, 243,  40,   0,   0,   0,   0,   0,  23, 241, 255, 174,   0,\n",
       "         0,   0,   0, 112, 255, 255, 136,   0,   0,   0,   0,   0,   0,\n",
       "         0, 160, 255, 223,   0,   0,   0,   0, 112, 255, 255,  59,   0,\n",
       "         0,   0,   0,   0,   0,   0, 122, 255, 241,   0,   0,   0,   0,\n",
       "       112, 255, 255,  18,   0,   0,   0,   0,   0,   0,   0, 116, 255,\n",
       "       244,   0,   0,   0,   0, 112, 255, 255,   2,   0,   0,   0,   0,\n",
       "         0,   0,   0, 116, 255, 244,   0,   0,   0,   0, 112, 255, 255,\n",
       "         0,   0,   0,   0,   0,   0,   0,   0, 116, 255, 244,   0,   0,\n",
       "         0,   0, 112, 255, 255,   0,   0,   0,   0,   0,   0,   0,   0,\n",
       "       116, 255, 244,   0,   0,   0,   0, 112, 255, 255,   0,   0,   0,\n",
       "         0,   0,   0,   0,   0, 116, 255, 244,   0,   0,   0,   0, 112,\n",
       "       255, 255,   0,   0,   0,   0,   0,   0,   0,   0, 116, 255, 244,\n",
       "         0,   0,   0,   0, 112, 255, 255,   0,   0,   0,   0,   0,   0,\n",
       "         0,   0, 116, 255, 244,   0,   0,   0,   0, 112, 255, 255,   0,\n",
       "         0,   0,   0,   0,   0,   0,   0, 116, 255, 244,   0,   0,   0,\n",
       "         0, 112, 255, 255,   0,   0,   0,   0,   0,   0,   0,   0, 116,\n",
       "       255, 244,   0,   0,   0,   0, 112, 255, 255,   0,   0,   0,   0,\n",
       "         0,   0,   0,   0, 116, 255, 244,   0,   0,   0,   0,   0,   0,\n",
       "         0,   0,   0,   0,   0,   0,   0,   0,   0,   0,   0,   0,   0,\n",
       "         0,   0,   0,   0,   0,   0,   0,   0,   0,   0,   0,   0,   0,\n",
       "         0,   0,   0,   0,   0,   0,   0,   0,   0,   0,   0,   0,   0,\n",
       "         0,   0,   0,   0,   0,   0,   0,   0,   0,   0,   0,   0,   0,\n",
       "         0,   0,   0,   0,   0,   0,   0,   0,   0,   0,   0,   0,   0,\n",
       "         0,   0,   0,   0,   0,   0,   0,   0,   0,   0,   0,   0,   0,\n",
       "         0,   0,   0,   0,   0,   0,   0,   0,   0,   0,   0,   0,   0,\n",
       "         0,   0,   0,   0,   0,   0,   0,   0,   0,   0,   0,   0,   0,\n",
       "         0,   0,   0,   0,   0,   0,   0,   0,   0,   0,   0,   0,   0,\n",
       "         0,   0,   0,   0,   0,   0,   0,   0,   0,   0,   0,   0,   0,\n",
       "         0,   0,   0,   0,   0,   0,   0,   0,   0,   0,   0,   0,   0,\n",
       "         0,   0,   0,   0,   0,   0,   0,   0,   0,   0,   0,   0,   0,\n",
       "         0,   0,   0,   0,   0,   0,   0,   0,   0,   0,   0,   0,   0,\n",
       "         0,   0,   0,   0,   0,   0,   0,   0,   0,   0,   0,   0,   0,\n",
       "         0,   0,   0,   0,   0,   0,   0,   0,   0,   0,   0,   0,   0,\n",
       "         0,   0,   0,   0,   0,   0,   0,   0,   0,   0,   0,   0,   0,\n",
       "         0,   0,   0,   0,   0,   0,   0,   0,   0,   0,   0,   0,   0,\n",
       "         0,   0,   0,   0,   0,   0,   0,   0,   0])"
      ]
     },
     "execution_count": 10,
     "metadata": {},
     "output_type": "execute_result"
    }
   ],
   "source": [
    "np.array(tmp_img.getdata())[:,0]"
   ]
  },
  {
   "cell_type": "code",
   "execution_count": 11,
   "id": "41739495-9053-4ea7-b36f-cbc0f7dd5339",
   "metadata": {},
   "outputs": [
    {
     "data": {
      "text/plain": [
       "array([[  0,   0,   0,   0,   0,   0,   0,   0,   0,   0,   0,   0,   0,\n",
       "          0,   0,   0,   0,   0,   0,   0,   0,   0,   0,   0,   0,   0,\n",
       "          0,   0,   0,   0,   0,   0,   0,   0,   0,   0,   0,   0,   0,\n",
       "          0,   0,   0,   0,   0,   0,   0],\n",
       "       [  0,   0,   0,   0,   0,   0,   0,   0,   0,   0,   0,   0,   0,\n",
       "          0,   0,   0,   0,   0,   0,   0,   0,   0,   0,   0,   0,   0,\n",
       "          0,   0,   0,   0,   0,   0,   0,   0,   0,   0,   0,   0,   0,\n",
       "          0,   0,   0,   0,   0,   0,   0],\n",
       "       [  0,   0,   0,   0,   0,   0,   0,   0,   0,   0, 112, 112, 112,\n",
       "        112, 112, 112, 112, 112, 112, 112, 112, 112, 112, 112, 112, 112,\n",
       "        112, 112, 112, 112, 112, 112, 112,   0,   0,   0,   0,   0,   0,\n",
       "          0,   0,   0,   0,   0,   0,   0],\n",
       "       [  0,   0,   0,   0,   0,   0,   0,   0,   0,   0, 255, 255, 255,\n",
       "        255, 255, 255, 255, 255, 255, 255, 255, 255, 255, 255, 255, 255,\n",
       "        255, 255, 255, 255, 255, 255, 255,   0,   0,   0,   0,   0,   0,\n",
       "          0,   0,   0,   0,   0,   0,   0],\n",
       "       [  0,   0,   0,   0,   0,   0,   0,   0,   0,   0, 255, 255, 255,\n",
       "        255, 255, 255, 255, 254, 245, 241, 255, 255, 255, 255, 255, 255,\n",
       "        255, 255, 255, 255, 255, 255, 255,   0,   0,   0,   0,   0,   0,\n",
       "          0,   0,   0,   0,   0,   0,   0],\n",
       "       [  0,   0,   0,   0,   0,   0,   0,   0,   0,   0,   0,   0,   0,\n",
       "          0,   0,   0,   0,   0,  45, 222, 243, 136,  59,  18,   2,   0,\n",
       "          0,   0,   0,   0,   0,   0,   0,   0,   0,   0,   0,   0,   0,\n",
       "          0,   0,   0,   0,   0,   0,   0],\n",
       "       [  0,   0,   0,   0,   0,   0,   0,   0,   0,   0,   0,   0,   0,\n",
       "          0,   0,   0,   0,  17, 229, 237,  40,   0,   0,   0,   0,   0,\n",
       "          0,   0,   0,   0,   0,   0,   0,   0,   0,   0,   0,   0,   0,\n",
       "          0,   0,   0,   0,   0,   0,   0],\n",
       "       [  0,   0,   0,   0,   0,   0,   0,   0,   0,   0,   0,   0,   0,\n",
       "          0,   0,   0,   0, 128, 255, 113,   0,   0,   0,   0,   0,   0,\n",
       "          0,   0,   0,   0,   0,   0,   0,   0,   0,   0,   0,   0,   0,\n",
       "          0,   0,   0,   0,   0,   0,   0],\n",
       "       [  0,   0,   0,   0,   0,   0,   0,   0,   0,   0,   0,   0,   0,\n",
       "          0,   0,   0,   0, 207, 255,  37,   0,   0,   0,   0,   0,   0,\n",
       "          0,   0,   0,   0,   0,   0,   0,   0,   0,   0,   0,   0,   0,\n",
       "          0,   0,   0,   0,   0,   0,   0],\n",
       "       [  0,   0,   0,   0,   0,   0,   0,   0,   0,   0,   0,   0,   0,\n",
       "          0,   0,   0,   0, 247, 255,   8,   0,   0,   0,   0,   0,   0,\n",
       "          0,   0,   0,   0,   0,   0,   0,   0,   0,   0,   0,   0,   0,\n",
       "          0,   0,   0,   0,   0,   0,   0],\n",
       "       [  0,   0,   0,   0,   0,   0,   0,   0,   0,   0,   0,   0,   0,\n",
       "          0,   0,   0,   0, 252, 255,  17,   0,   0,   0,   0,   0,   0,\n",
       "          0,   0,   0,   0,   0,   0,   0,   0,   0,   0,   0,   0,   0,\n",
       "          0,   0,   0,   0,   0,   0,   0],\n",
       "       [  0,   0,   0,   0,   0,   0,   0,   0,   0,   0,   0,   0,   0,\n",
       "          0,   0,   0,   0, 231, 255,  76,   0,   0,   0,   0,   0,   0,\n",
       "          0,   0,   0,   0,   0,   0,   0,   0,   0,   0,   0,   0,   0,\n",
       "          0,   0,   0,   0,   0,   0,   0],\n",
       "       [  0,   0,   0,   0,   0,   0,   0,   0,   0,   0,   0,   0,   0,\n",
       "          0,   0,   0,   0, 178, 255, 213,  23,   0,   0,   0,   0,   0,\n",
       "          0,   0,   0,   0,   0,   0,   0,   0,   0,   0,   0,   0,   0,\n",
       "          0,   0,   0,   0,   0,   0,   0],\n",
       "       [  0,   0,   0,   0,   0,   0,   0,   0,   0,   0,   0,   0,   0,\n",
       "          0,   0,   0,   0,  79, 255, 255, 241, 160, 122, 116, 116, 116,\n",
       "        116, 116, 116, 116, 116, 116, 116,   0,   0,   0,   0,   0,   0,\n",
       "          0,   0,   0,   0,   0,   0,   0],\n",
       "       [  0,   0,   0,   0,   0,   0,   0,   0,   0,   0,   0,   0,   0,\n",
       "          0,   0,   0,   0,   0, 149, 255, 255, 255, 255, 255, 255, 255,\n",
       "        255, 255, 255, 255, 255, 255, 255,   0,   0,   0,   0,   0,   0,\n",
       "          0,   0,   0,   0,   0,   0,   0],\n",
       "       [  0,   0,   0,   0,   0,   0,   0,   0,   0,   0,   0,   0,   0,\n",
       "          0,   0,   0,   0,   0,   0,  76, 174, 223, 241, 244, 244, 244,\n",
       "        244, 244, 244, 244, 244, 244, 244,   0,   0,   0,   0,   0,   0,\n",
       "          0,   0,   0,   0,   0,   0,   0],\n",
       "       [  0,   0,   0,   0,   0,   0,   0,   0,   0,   0,   0,   0,   0,\n",
       "          0,   0,   0,   0,   0,   0,   0,   0,   0,   0,   0,   0,   0,\n",
       "          0,   0,   0,   0,   0,   0,   0,   0,   0,   0,   0,   0,   0,\n",
       "          0,   0,   0,   0,   0,   0,   0],\n",
       "       [  0,   0,   0,   0,   0,   0,   0,   0,   0,   0,   0,   0,   0,\n",
       "          0,   0,   0,   0,   0,   0,   0,   0,   0,   0,   0,   0,   0,\n",
       "          0,   0,   0,   0,   0,   0,   0,   0,   0,   0,   0,   0,   0,\n",
       "          0,   0,   0,   0,   0,   0,   0]], dtype=uint8)"
      ]
     },
     "execution_count": 11,
     "metadata": {},
     "output_type": "execute_result"
    }
   ],
   "source": [
    "img_data.T"
   ]
  },
  {
   "cell_type": "code",
   "execution_count": null,
   "id": "bcbccb8e-f8ea-40ce-ba69-83a13d974ac3",
   "metadata": {},
   "outputs": [],
   "source": []
  },
  {
   "cell_type": "code",
   "execution_count": null,
   "id": "7541a693-24e0-436c-9530-e7b694233739",
   "metadata": {},
   "outputs": [],
   "source": []
  },
  {
   "cell_type": "code",
   "execution_count": null,
   "id": "b6598d1d-ecee-4e6f-b643-606d72fb0c83",
   "metadata": {},
   "outputs": [],
   "source": []
  }
 ],
 "metadata": {
  "kernelspec": {
   "display_name": "Python 3 (ipykernel)",
   "language": "python",
   "name": "python3"
  },
  "language_info": {
   "codemirror_mode": {
    "name": "ipython",
    "version": 3
   },
   "file_extension": ".py",
   "mimetype": "text/x-python",
   "name": "python",
   "nbconvert_exporter": "python",
   "pygments_lexer": "ipython3",
   "version": "3.11.2"
  }
 },
 "nbformat": 4,
 "nbformat_minor": 5
}
