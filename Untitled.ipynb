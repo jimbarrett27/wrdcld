{
 "cells": [
  {
   "cell_type": "code",
   "execution_count": 1,
   "id": "216783e4-03d3-4b5a-b5da-873b230567b2",
   "metadata": {},
   "outputs": [],
   "source": [
    "from pathlib import Path\n",
    "from PIL import Image, ImageDraw, ImageFont\n",
    "from collections import Counter\n",
    "from dataclasses import dataclass\n",
    "import random\n",
    "import math\n",
    "from wrdcld.font import get_default_font_path\n",
    "from wrdcld.rectangle import Rectangle\n",
    "import numpy as np"
   ]
  },
  {
   "cell_type": "code",
   "execution_count": 2,
   "id": "48ddef6a-bffb-4d81-9452-4780fa5eeab5",
   "metadata": {},
   "outputs": [],
   "source": []
  },
  {
   "cell_type": "code",
   "execution_count": 99,
   "id": "06bee73d-4be4-4ebf-8197-f5d841effea3",
   "metadata": {},
   "outputs": [],
   "source": [
    "img = Image.new('RGB', (500,500), color = (73, 109, 137))\n",
    "canvas = ImageDraw.Draw(img)\n",
    "\n",
    "text = \"hello\"\n",
    "\n",
    "font = ImageFont.truetype(get_default_font_path(), size)\n",
    "\n",
    "bbox = font.getbbox(text)\n",
    "\n",
    "text_dims = (bbox[2]-bbox[0], (bbox[3]-bbox[1])*2 )\n",
    "\n",
    "tmp_img = Image.new('RGB', text_dims,color = (0,0,0))\n",
    "tmp_canvas = ImageDraw.Draw(tmp_img)\n",
    "\n",
    "\n",
    "\n",
    "\n",
    "tmp_canvas.text(\n",
    "    (0,0), \n",
    "    text,\n",
    "    fill=(255,255,255),\n",
    "    font=font,\n",
    ")\n",
    "\n",
    "img_data = np.array(tmp_img.getdata())[:,1].reshape(text_dims)"
   ]
  },
  {
   "cell_type": "code",
   "execution_count": 100,
   "id": "092895d1-e52a-497b-9b4e-ec6aac022a2a",
   "metadata": {},
   "outputs": [
    {
     "data": {
      "text/plain": [
       "(0, 10, 68, 33)"
      ]
     },
     "execution_count": 100,
     "metadata": {},
     "output_type": "execute_result"
    }
   ],
   "source": [
    "bbox"
   ]
  },
  {
   "cell_type": "code",
   "execution_count": 101,
   "id": "ec79e1a9-f152-4c78-a948-f1f0f1de470d",
   "metadata": {},
   "outputs": [
    {
     "data": {
      "image/jpeg": "[encoded data removed]",
      "image/png": "[encoded data removed]",
      "text/plain": [
       "<PIL.Image.Image image mode=RGB size=68x46>"
      ]
     },
     "execution_count": 101,
     "metadata": {},
     "output_type": "execute_result"
    }
   ],
   "source": [
    "tmp_img"
   ]
  },
  {
   "cell_type": "code",
   "execution_count": 102,
   "id": "bbd03f30-2a0c-4a37-ac5c-4df4fa242321",
   "metadata": {
    "scrolled": true
   },
   "outputs": [],
   "source": [
    "img_data = np.array(tmp_img.getdata())[:,1].reshape(text_dims)"
   ]
  },
  {
   "cell_type": "code",
   "execution_count": 103,
   "id": "56bc00c8-0ca4-4eb3-bf26-aa5c372133cc",
   "metadata": {},
   "outputs": [
    {
     "data": {
      "text/plain": [
       "(68, 46)"
      ]
     },
     "execution_count": 103,
     "metadata": {},
     "output_type": "execute_result"
    }
   ],
   "source": [
    "img_data.shape"
   ]
  },
  {
   "cell_type": "code",
   "execution_count": 104,
   "id": "efe20592-d6ab-4017-90d2-f608d14f417b",
   "metadata": {},
   "outputs": [
    {
     "data": {
      "text/plain": [
       "array([[0, 0, 0, ..., 0, 0, 0],\n",
       "       [0, 0, 0, ..., 0, 0, 0],\n",
       "       [0, 0, 0, ..., 0, 0, 0],\n",
       "       ...,\n",
       "       [0, 0, 0, ..., 0, 0, 0],\n",
       "       [0, 0, 0, ..., 0, 0, 0],\n",
       "       [0, 0, 0, ..., 0, 0, 0]])"
      ]
     },
     "execution_count": 104,
     "metadata": {},
     "output_type": "execute_result"
    }
   ],
   "source": [
    "img_data.T"
   ]
  },
  {
   "cell_type": "code",
   "execution_count": 105,
   "id": "a35fc5ea-bac3-494c-b1c7-52abdb47aded",
   "metadata": {},
   "outputs": [
    {
     "name": "stdout",
     "output_type": "stream",
     "text": [
      "[  0   0   0   0   0   0   0   0   0   0   0   0   0   0   0   0   0   0\n",
      "   0   0   0   0   0 255   0   0   4   0   9   0  75   0   0  87   0 255\n",
      " 255 112   4   0 255   0   0   0  70 117   0 148  12   0   0   0   0   0\n",
      "   0   0   0   0   0   0   0   0   0   0   0   0   0   0]\n",
      "[  0   0   0   0   0   0   0   0   0   0   0   0   0   0   0   0   0   0\n",
      "   0   0 112   0   0 255   0   0   0   0   0   0 255   0 112   0   0 255\n",
      " 255 255   0   0   0  14   0   0 255 197   0 255   0   0   0   0   0   0\n",
      "   0   0   0   0   0   0   0   0   0   0   0   0   0   0]\n",
      "[  0   0   0   0   0   0   0   0   0   0   0   0   0   0   0   0   0   0\n",
      "   0   0 255   0   0   4   0   0   0   0   0   0 253   0 255   0 112   4\n",
      " 255 255   0   0   0 253   0   0 255 143   0 255   0   0   0   0   0   0\n",
      "   0   0   0   0   0   0   0   0   0   0   0   0   0   0]\n",
      "[  0   0   0   0   0   0   0   0   0   0   0   0   0   0   0   0   0 112\n",
      "   0   0 255   0   0   0   0   0   0   7   0 112  66   0 255   0 255   0\n",
      " 255   0  80   0   0 255   0   0 131   0   0 255   0   0   0   0   0   0\n",
      "   0   0   0   0   0   0   0   0   0   0   0   0   0   0]\n",
      "[  0   0   0   0   0   0   0   0   0   0   0   0   0   0   0   0   0 255\n",
      "   0   0   4   0   0   0   0   0   0 164   0 255   0 112   4   0 255   0\n",
      " 255   0 255   0   0 129   0   0   0   0   0 255   0   0   0   0   0   0\n",
      "   0   0   0   0   0   0   0   0   0   0   0   0   0   0]\n",
      "[  0   0   0   0   0   0   0   0   0   0   0   0   0   0   0   0   0 255\n",
      "   0   0   0   0   0   0   0   0 112 255   0 255   0 255   0   0  18  60\n",
      " 255   0 255   0   0   0   0   0   0   0 116 255 112   0   0   0   0   0\n",
      "   0   0   0   0   0   0   0   0   0   0   0   0   0   0]\n",
      "[  0   0   0   0   0   0   0   0   0   0   0   0   0   0   0   0   0   4\n",
      "   0   0   0   0   0   0   0   0 255 255 112   4   0 255   0   0   0 255\n",
      " 255   0  53   0   0   0   0   0   0   0 255 255 255   0   0   0   0   0\n",
      "   0   0   0   0   0   0   0   0   0   0   0   0   0   0]\n",
      "[  0   0   0   0   0   0   0   0   0   0   0   0   0   0   0   0   0   0\n",
      "   0   0   0   0   0 112   0   0 255 255 255   0   0 136   0   0   0 255\n",
      " 255   0   0   0   0   0   0 116   0 112 244 255 255   0   0   0   0   0\n",
      "   0   0   0   0   0   0   0   0   0   0   0   0   0   0]\n",
      "[  0   0   0   0   0   0   0   0   0   0   0   0   0   0   0   0   0   0\n",
      "   0   0   0   0   0 255   0 112   4 255 241   0   0   0 199  80   0  73\n",
      " 255   0   0   0   0   0   0 255   0 255   0 255   4   0   0   0   0   0\n",
      "   0   0   0   0   0   0   0   0   0   0   0   0   0   0]\n",
      "[  0   0   0   0   0   0   0   0   0   0   0   0   0   0   0   0   0   0\n",
      "   0   0 112   0   0 255   0 255   0 255 222   0  21   0 255 255   0   0\n",
      "  72   0   0   0 116   0 112 244   0 255   0 172   0   0   0   0   0   0\n",
      "   0   0   0   0   0   0   0   0   0   0   0   0   0   0]\n",
      "[  0   0   0   0   0   0   0   0   0   0   0   0   0   0   0   0   0   0\n",
      "   0   0 255   0 112   4   0 254   0 255 237   1 233   0 214 255   0   0\n",
      "   0   0   0   0 255   0 255   0 112   4   0  11   0   0   0   0   0   0\n",
      "   0   0   0   0   0   0   0   0   0   0   0   0   0   0]\n",
      "[  0   0   0   0   0   0   0   0   0   0   0   0   0   0   0   0   0 112\n",
      "   0   0 255   0 255   0   0   0   0 255 113 174 255   0   2  51   0   0\n",
      "   0 116   0 112 244   0 255   0 255   0   0   0   0   0   0   0   0   0\n",
      "   0   0   0   0   0   0   0   0   0   0   0   0   0   0]\n",
      "[  0   0   0   0   0   0   0   0   0   0   0   0   0   0   0   0   0 255\n",
      "   0 112   4   0 255   0   0  17   0 236  37 255 166   0   0   0   0   0\n",
      "   0 255   0 255   0   0   4   0 255   0   0   0   0   0   0   0   0   0\n",
      "   0   0   0   0   0   0   0   0   0   0   0   0   0   0]\n",
      "[  0   0   0   0   0   0   0   0   0   0   0   0   0   0   0   0   0 255\n",
      "   0 255   0   0   0   0   0 128   0  63   8 255   0   0   0   0 116   0\n",
      " 112 244   0 255   0 109   0   0  98   0   4   0 112   0   0   0   0   0\n",
      "   0   0   0   0   0   0   0   0   0   0   0   0   0   0]\n",
      "[  0   0   0   0   0   0   0   0   0   0   0   0   0   0   0   0 112   4\n",
      "   0 255   0   0   0   0   0 207   0   0  17 163   0   0   0   0 255   0\n",
      " 255   0   0   4   0 255   0  79   0   0 145   0 255   0   0   0   0   0\n",
      "   0   0   0   0   0   0   0   0   0   0   0   0   0   0]\n",
      "[  0   0   0   0   0   0   0   0   0   0   0   0   0   0   0   0 255   0\n",
      "   0   0   0   0   0   0   0 247  62   0  76  61   0 160   0 112 244   0\n",
      " 255   0  33   0  19 255   0 255   0 112 254   0 255   0   0   0   0   0\n",
      "   0   0   0   0   0   0   0   0   0   0   0   0   0   0]\n",
      "[  0   0   0   0   0   0   0   0   0   0   0   0   0   0   0   0 255   0\n",
      "   0   0   0   0   0   0   0 252 161   0 213  19   0 255   0 255   0   0\n",
      "   4   0 255   0 254  32   0 255   0 255 255 112   4   0   0   0   0   0\n",
      "   0   0   0   0   0   0   0   0   0   0   0   0   0   0]\n",
      "[  0   0   0   0   0   0   0   0   0   0   0   0   0   0   0   0   0   0\n",
      "   0   0   0   0   0   0   0 231 220   0 255  18 112 223   0 255   0  55\n",
      "   0  79 255   0 255   0 112 178   0 255 255 255   0   0   0   0   0   0\n",
      "   0   0   0   0   0   0   0   0   0   0   0   0   0   0]\n",
      "[  0   0   0   0   0   0   0   0   0   0   0   0   0   0   0   0   0   0\n",
      "   0   0   0   0   0   0   0 178 248   0 255  58 255   0   0   4   0 255\n",
      "   0 255 100   0 144   0 255   7 112   4 255 255   0   0   0   0   0   0\n",
      "   0   0   0   0   0   0   0   0   0   0   0   0   0   0]\n",
      "[  0   0   0   0   0   0   0   0   0   0   0   0   0   0   0   0   0   0\n",
      "   0   0   0   0   0   0   0  79 250 112  76 158 255   0 198   0  55 255\n",
      "   0 255   0 112   0   0 255   0 255   0 255   0   0   0   0   0   0   0\n",
      "   0   0   0   0   0   0   0   0   0   0   0   0   0   0]\n",
      "[  0   0   0   0   0   0   0   0   0   0   0   0   0   0   0   0   0   0\n",
      "   0   0   0   0   0   0   0   0 225 255   0 255   4   0 255   0 255  79\n",
      "   0  54   0 255   0 112   4   0 255   0 255   0   0   0   0   0   0   0\n",
      "   0   0   0   0   0   0   0   0   0   0   0   0   0   0]\n",
      "[  0   0   0   0   0   0   0   0   0   0   0   0   0   0   0   0   0   0\n",
      "   0   0   0   0   0   0 112   0 166 255   0 255   0   0 214   0 255   0\n",
      " 112   0   0 255   0 255   0   0   0   0 255   0   0   0   0   0   0   0\n",
      "   0   0   0   0   0   0   0   0   0   0   0   0   0   0]\n",
      "[  0   0   0   0   0   0   0   0   0   0   0   0   0   0   0   0   0   0\n",
      "   0   0   0   0   0   0 255   0  67   4   0 182   0 189   0   0 244   0\n",
      " 255   0 112   4   0 255   0   0   0   0 255   0   0   0   0   0   0   0\n",
      "   0   0   0   0   0   0   0   0   0   0   0   0   0   0]\n",
      "[  0   0   0   0   0   0   0   0   0   0   0   0   0   0   0   0   0   0\n",
      "   0   0   0 112   0   0 255   0   0   0   0   2   0 255   0 112 240   0\n",
      " 255   0 255   0   0   0   0   0   0 156 255   0  54   0   0   0   0   0\n",
      "   0   0   0   0   0   0   0   0   0   0   0   0   0   0]\n",
      "[  0   0   0   0   0   0   0   0   0   0   0   0   0   0   0   0   0   0\n",
      "   0   0   0 255   0   0   4   0   0   0   0   0   0 166   0 255 240 112\n",
      "   4   0 255   0   0   0 189   0   0 255 144   0 158   0   0   0   0   0\n",
      "   0   0   0   0   0   0   0   0   0   0   0   0   0   0]\n",
      "[  0   0   0   0   0   0   0   0   0   0   0   0   0   0   0   0   0   0\n",
      " 112   0   0 255   0   0   0   0   0   0 166   0 112   0   0 255 240 255\n",
      "   0   0   0  57   0   0 255   0   0 255   0   0 221   0   0   0   0   0\n",
      "   0   0   0   0   0   0   0   0   0   0   0   0   0   0]\n",
      "[  0   0   0   0   0   0   0   0   0   0   0   0   0   0   0   0   0   0\n",
      " 255   0   0   4   0   0   0   0   0   0 255   0 255   0 112   4 240 255\n",
      "   0   0   0 255   0   0 220  11   0 168   0   0 250   0   0   0   0   0\n",
      "   0   0   0   0   0   0   0   0   0   0   0   0   0   0]\n",
      "[  0   0   0   0   0   0   0   0   0   0   0   0   0   0   0 112   0   0\n",
      " 255   0   0   0   0   0   0   0   0 112 246   0 255   0 255   0 240   2\n",
      "  79   0   0 255   0   0   4   0   0  60   0 116 250   0   0   0   0   0\n",
      "   0   0   0   0   0   0   0   0   0   0   0   0   0   0]\n",
      "[  0   0   0   0   0   0   0   0   0   0   0   0   0   0   0 255   0   0\n",
      "   4   0   0   0   0   0   0   0   0 255 120 112   4   0 255   0 240   0\n",
      " 255   0   0  77   0   0   0   0   0  16   0 255 223   0   0   0   0   0\n",
      "   0   0   0   0   0   0   0   0   0   0   0   0   0   0]\n",
      "[  0   0   0   0   0   0   0   0   0   0   0   0   0   0   0 255   0   0\n",
      "   0   0   0   0   0   0 112  69   0 255  30 255   0   0  59  18 240   0\n",
      " 255   0   0   0   0   0   0   0 116  15 112 244 166   0   0   0   0   0\n",
      "   0   0   0   0   0   0   0   0   0   0   0   0   0   0]\n",
      "[  0   0   0   0   0   0   0   0   0   0   0   0   0   0   0   4   0   0\n",
      "   0   0   0   0   0   0 255 171 112   4   1 255   0   0   0 254 244   0\n",
      "  52   0   0   0   0   0   0   0 255  57 255   0  68   0   0   0   0   0\n",
      "   0   0   0   0   0   0   0   0   0   0   0   0   0   0]\n",
      "[  0   0   0   0   0   0   0   0   0   0   0   0   0   0   0   0   0   0\n",
      "   0   0   0 112   0   0 255 229 255   0  11 243   0   0   0 255 255   0\n",
      "   0   0   0   0   0 116   0 112 244 159 255   0   0   0   0   0   0   0\n",
      "   0   0   0   0   0   0   0   0   0   0   0   0   0   0]\n",
      "[  0   0   0   0   0   0   0   0   0   0   0   0   0   0   0   0   0   0\n",
      "   0   0   0 255   0 112   4 252 245   0  75  40  86 132   0 125 255   0\n",
      "   0   0   0   0   0 255   0 255   0 255   4   0   0   0   0   0   0   0\n",
      "   0   0   0   0   0   0   0   0   0   0   0   0   0   0]\n",
      "[  0   0   0   0   0   0   0   0   0   0   0   0   0   0   0   0   0   0\n",
      " 112   0   0 255   0 255   0 245  45   0 216   0 255 255   0   0  69   0\n",
      "   0   0 116   0 112 244   0 255   0 255   0   0   0   0   0   0   0   0\n",
      "   0   0   0   0   0   0   0   0   0   0   0   0   0   0]\n",
      "[  0   0   0   0   0   0   0   0   0   0   0   0   0   0   0   0   0   0\n",
      " 255   0 112   4   0 255   0 207 229   0 255   0 255 248   0   0   0   0\n",
      "   0   0 255   0 255   0   1   4   0 185   0   0   0   0   0   0   0   0\n",
      "   0   0   0   0   0   0   0   0   0   0   0   0   0   0]\n",
      "[  0   0   0   0   0   0   0   0   0   0   0   0   0   0   0 112   0   0\n",
      " 255   0 255   0   0   0   0 130 255   8 243   0 120  10   0   0   0 116\n",
      "   0 112 244   0 255   0 202   0   0   2   0   0   0   0   0   0   0   0\n",
      "   0   0   0   0   0   0   0   0   0   0   0   0   0   0]\n",
      "[  0   0   0   0   0   0   0   0   0   0   0   0   0   0   0 255   0 112\n",
      "   4   0 255   0   0   0   0  21 255 163  34   0   0   0   0   0   0 255\n",
      "   0 255   0   0   4   0 255   0   0   0   0   0   0   0   0   0   0   0\n",
      "   0   0   0   0   0   0   0   0   0   0   0   0   0   0]\n",
      "[  0   0   0   0   0   0   0   0   0   0   0   0   0   0   0 255   0 255\n",
      "   0   0   0   0   0   0   0   0 255 255   0   0   0   0 122   0 112 244\n",
      "   0 255   0  57   0   0 213   0 162   0 112  47   0   0   0   0   0   0\n",
      "   0   0   0   0   0   0   0   0   0   0   0   0   0   0]\n",
      "[  0   0   0   0   0   0   0   0   0   0   0   0   0   0 112   4   0 255\n",
      "   0   0   0   0   0   0   0   0 255 255   0  23   0   0 255   0 255   0\n",
      "   0   4   0 255   0 197   0   0 255   0 255 147   0   0   0   0   0   0\n",
      "   0   0   0   0   0   0   0   0   0   0   0   0   0   0]\n",
      "[  0   0   0   0   0   0   0   0   0   0   0   0   0   0 255   0   0   0\n",
      "   0   0   0   0   0   0   0   0 255 255   0 241   0 112 241   0 255   0\n",
      "  32   0  61 255   0 255   0 112 255   0 255 212   0   0   0   0   0   0\n",
      "   0   0   0   0   0   0   0   0   0   0   0   0   0   0]\n",
      "[  0   0   0   0   0   0   0   0   0   0   0   0   0   0 255   0   0   0\n",
      "   0   0   0   0   0   0   0   0 255 255   0 255   0 255   0   0   4   0\n",
      " 255   0 255  79   0 236   0 255 212 112   4 246   0   0   0   0   0   0\n",
      "   0   0   0   0   0   0   0   0   0   0   0   0   0   0]\n",
      "[  0   0   0   0   0   0   0   0   0   0   0   0   0   0   0   0   0   0\n",
      "   0   0   0   0   0   0   0   0 255 255 112 174   0 255   0 107   0  77\n",
      " 255   0 255   0 112  15   0 255  96 255   0 254   0   0   0   0   0   0\n",
      "   0   0   0   0   0   0   0   0   0   0   0   0   0   0]\n",
      "[  0   0   0   0   0   0   0   0   0   0   0   0   0   0   0   0   0   0\n",
      "   0   0   0   0   0   0   0   0 149 255 255   0 109   4   0 255   0 255\n",
      "  98   0  83   0 255   0 112   4  37 255   0 246   0   0   0   0   0   0\n",
      "   0   0   0   0   0   0   0   0   0   0   0   0   0   0]\n",
      "[  0   0   0   0   0   0   0   0   0   0   0   0   0   0   0   0   0   0\n",
      "   0   0   0   0   0   0   0 112   0 255 255   0 255   0  13 255   0 255\n",
      "   0 112   0   0 255   0 255   0  22   0   0 219   0   0   0   0   0   0\n",
      "   0   0   0   0   0   0   0   0   0   0   0   0   0   0]\n",
      "[  0   0   0   0   0   0   0   0   0   0   0   0   0   0   0   0   0   0\n",
      "   0   0   0   0   0   0   0 255   0 255   4   0 255   0 252  34   0 255\n",
      "   0 255   0 112   4   0 255   0  31   0   0 171   0   0   0   0   0   0\n",
      "   0   0   0   0   0   0   0   0   0   0   0   0   0   0]\n",
      "[  0   0   0   0   0   0   0   0   0   0   0   0   0   0   0   0   0   0\n",
      "   0   0   0   0 112   0   0 255   0 168   0   0  96   0 255   0 112 255\n",
      "   0 255   0 255   0   0   0   0  63   0   4  95   0   0   0   0   0   0\n",
      "   0   0   0   0   0   0   0   0   0   0   0   0   0   0]\n"
     ]
    }
   ],
   "source": [
    "completed_rectangles = []\n",
    "active_rectangles = [Rectangle(x=0,y=0, width=img_data.shape[0], height=0)]\n",
    "base_value = 1\n",
    "for ind, img_row in enumerate(img_data.T):\n",
    "\n",
    "    print(img_row)\n",
    "    \n",
    "    new_active_rectangles = []\n",
    "    for rect in active_rectangles:\n",
    "        # rectangle isn't done yet\n",
    "        if np.all(img_row[rect.x: rect.x+rect.width] == base_value):\n",
    "            active_rectangles.remove(rect)\n",
    "            new_active_rectangles.append(Rectangle(x=rect.x, y=rect.y, width=rect.width, height=rect.height+1))\n",
    "        # make the new rectangles\n",
    "        else:\n",
    "            active_rectangles.remove(rect)\n",
    "            completed_rectangles.append(rect)\n",
    "\n",
    "            # find the new rectangles to start\n",
    "            new_left = []\n",
    "            new_right = []\n",
    "            new_rect_active = False\n",
    "            for col_ind, val in enumerate(img_row):\n",
    "                if val == base_value and not new_rect_active:\n",
    "                    new_rect_active = True\n",
    "                    new_left.append(col_ind + rect.x)\n",
    "                elif new_rect_active and val != base_value:\n",
    "                    new_rect_active = False\n",
    "                    new_right.append(col_ind + rect.x)\n",
    "                else:\n",
    "                    continue\n",
    "\n",
    "            if new_rect_active:\n",
    "                new_right.append(rect.x + rect.width)\n",
    "\n",
    "            for left, right in zip(new_left, new_right, strict=True):\n",
    "                new_active_rectangles.append(Rectangle(x=left, y=ind, width=right-left, height=0))\n",
    "\n",
    "    active_rectangles = new_active_rectangles\n",
    "                "
   ]
  },
  {
   "cell_type": "code",
   "execution_count": 94,
   "id": "cd111b81-758e-4bff-a61b-afd10567ec17",
   "metadata": {},
   "outputs": [
    {
     "data": {
      "text/plain": [
       "[Rectangle(x=0 y=0 w=68 h=0)]"
      ]
     },
     "execution_count": 94,
     "metadata": {},
     "output_type": "execute_result"
    }
   ],
   "source": [
    "completed_rectangles"
   ]
  },
  {
   "cell_type": "code",
   "execution_count": 95,
   "id": "68d51d69-0f27-429d-9292-53d177d620cc",
   "metadata": {},
   "outputs": [],
   "source": [
    "for rectangle in completed_rectangles:\n",
    "    tmp_canvas.rectangle(rectangle.corners)"
   ]
  },
  {
   "cell_type": "code",
   "execution_count": 96,
   "id": "7054930e-1c3d-46a8-b19e-ed53b95c542b",
   "metadata": {},
   "outputs": [
    {
     "data": {
      "image/jpeg": "[encoded data removed]",
      "image/png": "[encoded data removed]",
      "text/plain": [
       "<PIL.Image.Image image mode=RGB size=68x46>"
      ]
     },
     "execution_count": 96,
     "metadata": {},
     "output_type": "execute_result"
    }
   ],
   "source": [
    "tmp_img"
   ]
  },
  {
   "cell_type": "code",
   "execution_count": 29,
   "id": "0dbcd09f-518d-49eb-99c3-d6d050a99af8",
   "metadata": {},
   "outputs": [
    {
     "data": {
      "text/plain": [
       "[Rectangle(x=0 y=0 w=69 h=23), Rectangle(x=0 y=23 w=2 h=6)]"
      ]
     },
     "execution_count": 29,
     "metadata": {},
     "output_type": "execute_result"
    }
   ],
   "source": [
    "completed_rectangles"
   ]
  },
  {
   "cell_type": "code",
   "execution_count": 10,
   "id": "6e7ea5b5-ecbc-470c-b5fa-1c68f5776f88",
   "metadata": {},
   "outputs": [
    {
     "data": {
      "text/plain": [
       "array([255, 255, 255, ...,  73,  73,  73])"
      ]
     },
     "execution_count": 10,
     "metadata": {},
     "output_type": "execute_result"
    }
   ],
   "source": [
    "np.array(tmp_img.getdata())[:,0]"
   ]
  },
  {
   "cell_type": "code",
   "execution_count": 11,
   "id": "41739495-9053-4ea7-b36f-cbc0f7dd5339",
   "metadata": {},
   "outputs": [
    {
     "data": {
      "text/plain": [
       "array([[ 73,  73,  73, ...,  76,  73, 255],\n",
       "       [ 73,  73,  73, ...,  73,  73,  76],\n",
       "       [ 73,  73,  73, ...,  73,  73,  73],\n",
       "       ...,\n",
       "       [ 73,  73,  73, ...,  73,  73,  73],\n",
       "       [ 73,  73,  73, ...,  73, 153,  73],\n",
       "       [ 73,  73,  73, ...,  73, 255,  73]])"
      ]
     },
     "execution_count": 11,
     "metadata": {},
     "output_type": "execute_result"
    }
   ],
   "source": [
    "img_data.T"
   ]
  },
  {
   "cell_type": "code",
   "execution_count": null,
   "id": "bcbccb8e-f8ea-40ce-ba69-83a13d974ac3",
   "metadata": {},
   "outputs": [],
   "source": []
  }
 ],
 "metadata": {
  "kernelspec": {
   "display_name": "Python 3 (ipykernel)",
   "language": "python",
   "name": "python3"
  },
  "language_info": {
   "codemirror_mode": {
    "name": "ipython",
    "version": 3
   },
   "file_extension": ".py",
   "mimetype": "text/x-python",
   "name": "python",
   "nbconvert_exporter": "python",
   "pygments_lexer": "ipython3",
   "version": "3.11.2"
  }
 },
 "nbformat": 4,
 "nbformat_minor": 5
}
